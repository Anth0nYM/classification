{
 "cells": [
  {
   "cell_type": "markdown",
   "metadata": {},
   "source": [
    "# Importando bibliotecas"
   ]
  },
  {
   "cell_type": "code",
   "execution_count": 33,
   "metadata": {},
   "outputs": [],
   "source": [
    "import pandas as pd\n",
    "import matplotlib.pyplot as plt\n",
    "import numpy as np\n",
    "import collections\n",
    "from sklearn.neighbors import KNeighborsClassifier\n",
    "from sklearn.ensemble import RandomForestClassifier\n",
    "from sklearn.ensemble import GradientBoostingClassifier\n",
    "from sklearn.svm import SVC\n",
    "from sklearn.pipeline import make_pipeline\n",
    "from sklearn.preprocessing import StandardScaler\n",
    "from sklearn.ensemble import BaggingClassifier\n",
    "from sklearn.naive_bayes import GaussianNB\n",
    "from sklearn.model_selection import cross_val_score"
   ]
  },
  {
   "cell_type": "markdown",
   "metadata": {},
   "source": [
    "# Pre processamento\n",
    "Como nosso dataset veio sem valores faltantes e todas as features vieram em um formato adequeado, nessa etapa vamos usar apenas o balanceamento entre classes."
   ]
  },
  {
   "cell_type": "code",
   "execution_count": 20,
   "metadata": {},
   "outputs": [
    {
     "data": {
      "text/plain": [
       "<matplotlib.legend.Legend at 0x7fe72fe9d9d0>"
      ]
     },
     "execution_count": 20,
     "metadata": {},
     "output_type": "execute_result"
    },
    {
     "data": {
      "image/png": "[encoded data removed]",
      "text/plain": [
       "<Figure size 640x480 with 1 Axes>"
      ]
     },
     "metadata": {},
     "output_type": "display_data"
    }
   ],
   "source": [
    "df = pd.read_csv('assets/data/web-page-phishing.csv')\n",
    "df[\"phishing\"].value_counts().plot(kind='pie', autopct='%1.1f%%').legend(labels=df[\"phishing\"].value_counts().index, title=\"0: Legítimo, 1: Phishing\", loc=\"upper right\")"
   ]
  },
  {
   "cell_type": "code",
   "execution_count": 21,
   "metadata": {},
   "outputs": [],
   "source": [
    "X, y = df.drop(columns=['phishing']), df['phishing']"
   ]
  },
  {
   "cell_type": "markdown",
   "metadata": {},
   "source": [
    "# Treinamento e avaliação"
   ]
  },
  {
   "cell_type": "code",
   "execution_count": 25,
   "metadata": {},
   "outputs": [],
   "source": [
    "def evaluate(X,y,model, metrics):\n",
    "    scores = cross_val_score(model, X, y, cv=5, scoring=metrics)\n",
    "    return np.mean(scores), np.std(scores)"
   ]
  },
  {
   "cell_type": "markdown",
   "metadata": {},
   "source": [
    "<table>\n",
    "  <thead>\n",
    "    <tr>\n",
    "      <th>Método</th>\n",
    "      <th>Acurácia</th>\n",
    "      <th>Precisão</th>\n",
    "      <th>Revocação</th>\n",
    "      <th>F1</th>\n",
    "    </tr>\n",
    "  </thead>\n",
    "  <tbody>\n",
    "    <tr>\n",
    "      <td>KNeighborsClassifier</td>\n",
    "      <td>0.87 ± 0.06</td>\n",
    "      <td>0.82 ± 0.09</td>\n",
    "      <td>0.83 ± 0.06</td>\n",
    "      <td>0.82 ± 0.07</td>\n",
    "    </tr>\n",
    "    <tr>\n",
    "      <td>RandomForestClassifier</td>\n",
    "      <td>0.84 ± 0.06</td>\n",
    "      <td>0.85 ± 0.04</td>\n",
    "      <td>0.68 ± 0.16</td>\n",
    "      <td>0.74 ± 0.13</td>\n",
    "    </tr>\n",
    "    <tr>\n",
    "      <td>GradientBoostingClassifier</td>\n",
    "      <td>0.87 ± 0.07</td>\n",
    "      <td>0.81 ± 0.08</td>\n",
    "      <td>0.83 ± 0.11</td>\n",
    "      <td>0.82 ± 0.10</td>\n",
    "    </tr>\n",
    "    <tr>\n",
    "      <td>SVC</td>\n",
    "      <td>0.87 ± 0.06</td>\n",
    "      <td>0.83 ± 0.09</td>\n",
    "      <td>0.81 ± 0.08</td>\n",
    "      <td>0.82 ± 0.08</td>\n",
    "    </tr>\n",
    "    <tr>\n",
    "      <td>GaussianNB</td>\n",
    "      <td>0.71 ± 0.01</td>\n",
    "      <td>0.89 ± 0.08</td>\n",
    "      <td>0.25 ± 0.02</td>\n",
    "      <td>0.39 ± 0.01</td>\n",
    "    </tr>\n",
    "  </tbody>\n",
    "</table>\n",
    "<p>Métricas representadas por média +- desvio padrão </p>"
   ]
  },
  {
   "cell_type": "markdown",
   "metadata": {},
   "source": [
    "## Instanciando e avaliando classificadores"
   ]
  },
  {
   "cell_type": "code",
   "execution_count": null,
   "metadata": {},
   "outputs": [],
   "source": [
    "metrics = ['accuracy', 'precision', 'recall', 'f1']\n",
    "\n",
    "knn = KNeighborsClassifier(n_neighbors=5)\n",
    "rf = RandomForestClassifier(max_depth=2, random_state=42)\n",
    "gb = GradientBoostingClassifier()\n",
    "svc = make_pipeline(StandardScaler(), SVC(gamma='auto'))\n",
    "gnb = GaussianNB()\n",
    "classifiers = [knn, rf, gb, svc, gnb]\n",
    "for classifier in classifiers:\n",
    "    print(f'\\nAvaliação do classificador: {classifier.__class__.__name__}')\n",
    "    for metric in metrics:\n",
    "        mean, std = evaluate(X, y, classifier, metric)\n",
    "        print(f'{metric}: {mean:.2f} ± {std:.2f}')"
   ]
  }
 ],
 "metadata": {
  "kernelspec": {
   "display_name": ".venv",
   "language": "python",
   "name": "python3"
  },
  "language_info": {
   "codemirror_mode": {
    "name": "ipython",
    "version": 3
   },
   "file_extension": ".py",
   "mimetype": "text/x-python",
   "name": "python",
   "nbconvert_exporter": "python",
   "pygments_lexer": "ipython3",
   "version": "3.12.3"
  }
 },
 "nbformat": 4,
 "nbformat_minor": 2
}
